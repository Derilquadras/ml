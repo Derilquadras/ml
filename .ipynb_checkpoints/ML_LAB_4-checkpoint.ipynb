{
 "cells": [
  {
   "cell_type": "markdown",
   "metadata": {
    "colab_type": "text",
    "id": "OlyZh9soGuYN"
   },
   "source": [
    "# MACHINE LEARNING LAB - 4 (  Backpropagation Algorithm )"
   ]
  },
  {
   "cell_type": "markdown",
   "metadata": {
    "colab_type": "text",
    "id": "QxsZG-EaGuYP"
   },
   "source": [
    "**4. Build an Artificial Neural Network by implementing the Backpropagation algorithm and test the same using appropriate data sets.**"
   ]
  },
  {
   "cell_type": "code",
   "execution_count": 5,
   "metadata": {
    "colab": {},
    "colab_type": "code",
    "id": "WH4_4kkYGuYQ"
   },
   "outputs": [],
   "source": [
    "import numpy as np\n",
    "\n",
    "X = np.array(([2, 9], [1, 5], [3, 6]), dtype=float)     # X = (hours sleeping, hours studying)\n",
    "y = np.array(([92], [86], [89]), dtype=float)           # y = score on test\n",
    "\n",
    "# scale units\n",
    "X = X/np.amax(X, axis=0)        # maximum of X array\n",
    "y = y/100                       # max test score is 100"
   ]
  },
  {
   "cell_type": "code",
   "execution_count": 7,
   "metadata": {},
   "outputs": [
    {
     "data": {
      "text/plain": [
       "array([[0.92],\n",
       "       [0.86],\n",
       "       [0.89]])"
      ]
     },
     "execution_count": 7,
     "metadata": {},
     "output_type": "execute_result"
    }
   ],
   "source": [
    "y"
   ]
  },
  {
   "cell_type": "code",
   "execution_count": 2,
   "metadata": {
    "colab": {},
    "colab_type": "code",
    "id": "1GW2MASIGuYV"
   },
   "outputs": [],
   "source": [
    "class Neural_Network(object):\n",
    "    def __init__(self):\n",
    "                            # Parameters\n",
    "        self.inputSize = 2\n",
    "        self.outputSize = 1\n",
    "        self.hiddenSize = 3\n",
    "                             # Weights\n",
    "        self.W1 = np.random.randn(self.inputSize, self.hiddenSize)        # (3x2) weight matrix from input to hidden layer\n",
    "        self.W2 = np.random.randn(self.hiddenSize, self.outputSize)       # (3x1) weight matrix from hidden to output layer\n",
    "\n",
    "    def forward(self, X):\n",
    "                             # forward propagation through our network\n",
    "        self.z = np.dot(X, self.W1)               # dot product of X (input) and first set of 3x2 weights\n",
    "        self.z2 = self.sigmoid(self.z)            # activation function\n",
    "        self.z3 = np.dot(self.z2, self.W2)        # dot product of hidden layer (z2) and second set of 3x1 weights\n",
    "        o = self.sigmoid(self.z3)                 # final activation function\n",
    "        return o \n",
    "\n",
    "    def sigmoid(self, s):\n",
    "        return 1/(1+np.exp(-s))     # activation function \n",
    "\n",
    "    def sigmoidPrime(self, s):\n",
    "        return s * (1 - s)          # derivative of sigmoid\n",
    "    \n",
    "    def backward(self, X, y, o):\n",
    "                                    # backward propgate through the network\n",
    "        self.o_error = y - o        # error in output\n",
    "        self.o_delta = self.o_error*self.sigmoidPrime(o) # applying derivative of sigmoid to \n",
    "        self.z2_error = self.o_delta.dot(self.W2.T)    # z2 error: how much our hidden layer weights contributed to output error\n",
    "        self.z2_delta = self.z2_error*self.sigmoidPrime(self.z2) # applying derivative of sigmoid to z2 error\n",
    "        self.W1 += (0.5*X.T.dot(self.z2_delta))       # adjusting first set (input --> hidden) weights\n",
    "        self.W2 += (0.5*self.z2.T.dot(self.o_delta))  # adjusting second set (hidden --> output) weights\n",
    "\n",
    "    def train (self, X, y):\n",
    "        o = self.forward(X)\n",
    "        self.backward(X, y, o)"
   ]
  },
  {
   "cell_type": "code",
   "execution_count": 3,
   "metadata": {
    "colab": {
     "base_uri": "https://localhost:8080/",
     "height": 544
    },
    "colab_type": "code",
    "id": "JRJIV8_PGuYZ",
    "outputId": "6da75b57-1ef8-4d71-acfd-ae156fcc3750"
   },
   "outputs": [
    {
     "name": "stdout",
     "output_type": "stream",
     "text": [
      "\n",
      "Input: \n",
      "[[0.66666667 1.        ]\n",
      " [0.33333333 0.55555556]\n",
      " [1.         0.66666667]]\n",
      "\n",
      "Actual Output: \n",
      "[[0.92]\n",
      " [0.86]\n",
      " [0.89]]\n",
      "\n",
      "Epoch-> 0 Loss: 0.3221463139881347\n",
      "Epoch-> 1 Loss: 0.2755658832042451\n",
      "Epoch-> 2 Loss: 0.23311723279656293\n",
      "Epoch-> 3 Loss: 0.19584689811078984\n",
      "Epoch-> 4 Loss: 0.16402903682953254\n",
      "Epoch-> 5 Loss: 0.13738910912374797\n",
      "Epoch-> 6 Loss: 0.11535498066730217\n",
      "Epoch-> 7 Loss: 0.09724901433171458\n",
      "Epoch-> 8 Loss: 0.08240507614883845\n",
      "Epoch-> 9 Loss: 0.07022637067767505\n",
      "Epoch-> 10 Loss: 0.06020572753668285\n",
      "Epoch-> 11 Loss: 0.0519254928773217\n",
      "Epoch-> 12 Loss: 0.04504809040803328\n",
      "Epoch-> 13 Loss: 0.03930351158458061\n",
      "Epoch-> 14 Loss: 0.034476877925442774\n",
      "Epoch-> 15 Loss: 0.03039741943933323\n",
      "Epoch-> 16 Loss: 0.026929268836630122\n",
      "Epoch-> 17 Loss: 0.023964025085453377\n",
      "Epoch-> 18 Loss: 0.02141486160257201\n",
      "Epoch-> 19 Loss: 0.0192119091283512\n"
     ]
    }
   ],
   "source": [
    "NN = Neural_Network()\n",
    "print (\"\\nInput: \\n\" + str(X))\n",
    "print (\"\\nActual Output: \\n\" + str(y))\n",
    "print ()\n",
    "for i in range(20): # trains the NN 1,000 times \n",
    "    print (\"Epoch->\",i,\"Loss:\",str(np.mean(np.square(y - NN.forward(X)))))     # mean sum squared loss)\n",
    "    NN.train(X, y)"
   ]
  },
  {
   "cell_type": "code",
   "execution_count": 4,
   "metadata": {
    "colab": {
     "base_uri": "https://localhost:8080/",
     "height": 153
    },
    "colab_type": "code",
    "id": "7EYHFTFXGuYe",
    "outputId": "d2bfe995-1ebe-47fe-e5b0-b29b18bd523a"
   },
   "outputs": [
    {
     "name": "stdout",
     "output_type": "stream",
     "text": [
      "Input:\n",
      "[[1.         0.55555556]\n",
      " [0.5        1.        ]\n",
      " [1.         0.33333333]]\n",
      "Predicted Output\n",
      "[[0.71302026]\n",
      " [0.81057371]\n",
      " [0.66189101]]\n"
     ]
    }
   ],
   "source": [
    "test = np.array(([2, 5], [1, 9], [2, 3]), dtype=float)\n",
    "test = test/np.amax(test, axis=0)   \n",
    "print(\"Input:\")\n",
    "print(test)\n",
    "print(\"Predicted Output\")\n",
    "print(str(NN.forward(test)))"
   ]
  },
  {
   "cell_type": "code",
   "execution_count": null,
   "metadata": {},
   "outputs": [],
   "source": []
  }
 ],
 "metadata": {
  "colab": {
   "collapsed_sections": [],
   "name": "ML LAB 4.ipynb",
   "provenance": []
  },
  "kernelspec": {
   "display_name": "Python 3",
   "language": "python",
   "name": "python3"
  },
  "language_info": {
   "codemirror_mode": {
    "name": "ipython",
    "version": 3
   },
   "file_extension": ".py",
   "mimetype": "text/x-python",
   "name": "python",
   "nbconvert_exporter": "python",
   "pygments_lexer": "ipython3",
   "version": "3.7.5"
  }
 },
 "nbformat": 4,
 "nbformat_minor": 1
}
