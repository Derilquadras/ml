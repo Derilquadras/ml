{
 "cells": [
  {
   "cell_type": "markdown",
   "metadata": {},
   "source": [
    "# 1 : Implement and demonstrate the FIND-S algorithm"
   ]
  },
  {
   "cell_type": "code",
   "execution_count": 9,
   "metadata": {},
   "outputs": [],
   "source": [
    "import random\n",
    "import csv\n"
   ]
  },
  {
   "cell_type": "markdown",
   "metadata": {},
   "source": [
    " "
   ]
  },
  {
   "cell_type": "code",
   "execution_count": 10,
   "metadata": {},
   "outputs": [],
   "source": [
    "attributes = [ \n",
    "               ['Sunny','Rainy'  ],\n",
    "               ['Warm','Cold'    ],\n",
    "               ['Normal','High'  ],\n",
    "               ['Strong','Weak'  ],\n",
    "               ['Warm','Cool'    ],\n",
    "               ['Same','Change'  ]\n",
    "             ]"
   ]
  },
  {
   "cell_type": "markdown",
   "metadata": {},
   "source": [
    " "
   ]
  },
  {
   "cell_type": "code",
   "execution_count": 11,
   "metadata": {},
   "outputs": [],
   "source": [
    "\n",
    "data_list = []\n",
    "\n",
    "with open('data.csv', 'r') as csvFile:\n",
    "    reader = csv.reader(csvFile)\n",
    "    for row in reader:\n",
    "        data_list.append(row)\n",
    "    "
   ]
  },
  {
   "cell_type": "markdown",
   "metadata": {},
   "source": [
    "  "
   ]
  },
  {
   "cell_type": "code",
   "execution_count": 12,
   "metadata": {},
   "outputs": [
    {
     "name": "stdout",
     "output_type": "stream",
     "text": [
      "The initial value of hypothesis:\n",
      "\n",
      "\n",
      "['0', '0', '0', '0', '0', '0']\n"
     ]
    }
   ],
   "source": [
    "num_attributes = len(attributes)\n",
    "hypothesis = ['0'] * num_attributes\n",
    "\n",
    "print(\"The initial value of hypothesis:\", end='\\n'*3)\n",
    "print(hypothesis)"
   ]
  },
  {
   "cell_type": "markdown",
   "metadata": {},
   "source": [
    " "
   ]
  },
  {
   "cell_type": "code",
   "execution_count": 33,
   "metadata": {},
   "outputs": [],
   "source": [
    "# Comparing with First Training Example ( Assigning )\n",
    "\n",
    "*first_sample, output = data_list[0]    \n",
    "hypothesis = first_sample[:]            # Deep copy\n"
   ]
  },
  {
   "cell_type": "markdown",
   "metadata": {},
   "source": [
    " "
   ]
  },
  {
   "cell_type": "code",
   "execution_count": 31,
   "metadata": {},
   "outputs": [
    {
     "name": "stdout",
     "output_type": "stream",
     "text": [
      "Find S: Finding a Maximally Specific Hypothesis\n",
      "\n",
      "\n",
      "For Training Example No : 1 the hypothesis is ['Sunny', 'Warm', '?', 'Strong', '?', '?'] \n",
      "For Training Example No : 2 the hypothesis is ['Sunny', 'Warm', '?', 'Strong', '?', '?'] \n",
      "For Training Example No : 3 the hypothesis is ['Sunny', 'Warm', '?', 'Strong', '?', '?'] \n",
      "For Training Example No : 4 the hypothesis is ['Sunny', 'Warm', '?', 'Strong', '?', '?'] \n"
     ]
    }
   ],
   "source": [
    "\n",
    "# Comparing with Remaining Training Examples of Given Data Set\n",
    "\n",
    "print(\"Find S: Finding a Maximally Specific Hypothesis\", end='\\n'*3)\n",
    "\n",
    "outer_index = 1\n",
    "\n",
    "for *data, output in data_list:      \n",
    "    \n",
    "    if output == 'Yes':\n",
    "            for index, attribute in enumerate(data):   \n",
    "                if attribute != hypothesis[index]:\n",
    "                    hypothesis[index] = '?'\n",
    "                \n",
    "                \n",
    "                    \n",
    "    print(\"For Training Example No : {0} the hypothesis is {1} \".format( outer_index, hypothesis) )\n",
    "    outer_index += 1       \n"
   ]
  },
  {
   "cell_type": "markdown",
   "metadata": {},
   "source": [
    " "
   ]
  },
  {
   "cell_type": "code",
   "execution_count": 30,
   "metadata": {},
   "outputs": [
    {
     "name": "stdout",
     "output_type": "stream",
     "text": [
      " The Maximally Specific Hypothesis for a given Training Examples:\n",
      "\n",
      "['Sunny', 'Warm', '?', 'Strong', '?', '?']\n"
     ]
    }
   ],
   "source": [
    "print(\" The Maximally Specific Hypothesis for a given Training Examples:\", end='\\n'*2)\n",
    "print(hypothesis)"
   ]
  },
  {
   "cell_type": "markdown",
   "metadata": {},
   "source": [
    " "
   ]
  },
  {
   "cell_type": "code",
   "execution_count": 5,
   "metadata": {},
   "outputs": [
    {
     "name": "stdout",
     "output_type": "stream",
     "text": [
      "Sunny,Warm,Normal,Strong,Warm,Same,Yes\n",
      "Sunny,Warm,High,Strong,Warm,Same,Yes\n",
      "Rainy,Cold,High,Strong,Warm,Change,No\n",
      "Sunny,Warm,High,Strong,Cool,Change,Yes\n",
      "\n"
     ]
    }
   ],
   "source": [
    "# PS: Dataset for clarity\n",
    "print(open('data.csv').read())"
   ]
  },
  {
   "cell_type": "code",
   "execution_count": 8,
   "metadata": {},
   "outputs": [
    {
     "data": {
      "text/html": [
       "<style> div.prompt_container{ width: 0px; min-width: 0px; visibility: collapse}</style>"
      ],
      "text/plain": [
       "<IPython.core.display.HTML object>"
      ]
     },
     "metadata": {},
     "output_type": "display_data"
    },
    {
     "data": {
      "text/html": [
       "<style> div.prompt{ width: 0px; min-width: 0px; visibility: collapse}</style>"
      ],
      "text/plain": [
       "<IPython.core.display.HTML object>"
      ]
     },
     "metadata": {},
     "output_type": "display_data"
    },
    {
     "data": {
      "text/html": [
       "<style> div.output pre { font-style: italic;  color: rgb(105,105,105) }  </style>"
      ],
      "text/plain": [
       "<IPython.core.display.HTML object>"
      ]
     },
     "metadata": {},
     "output_type": "display_data"
    },
    {
     "data": {
      "text/html": [
       "<style>.container { width:100% !important; }</style>"
      ],
      "text/plain": [
       "<IPython.core.display.HTML object>"
      ]
     },
     "metadata": {},
     "output_type": "display_data"
    }
   ],
   "source": []
  }
 ],
 "metadata": {
  "kernelspec": {
   "display_name": "Python 3",
   "language": "python",
   "name": "python3"
  },
  "language_info": {
   "codemirror_mode": {
    "name": "ipython",
    "version": 3
   },
   "file_extension": ".py",
   "mimetype": "text/x-python",
   "name": "python",
   "nbconvert_exporter": "python",
   "pygments_lexer": "ipython3",
   "version": "3.7.5"
  }
 },
 "nbformat": 4,
 "nbformat_minor": 4
}
