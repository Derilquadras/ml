{
 "cells": [
  {
   "cell_type": "markdown",
   "metadata": {
    "colab_type": "text",
    "id": "8cBQ3slBUhGp"
   },
   "source": [
    "# 2 : Implement and demonstrate the Candidate-Elimination algorithm"
   ]
  },
  {
   "cell_type": "markdown",
   "metadata": {
    "colab_type": "text",
    "id": "rsXtB-s7UhGs"
   },
   "source": [
    " "
   ]
  },
  {
   "cell_type": "code",
   "execution_count": 50,
   "metadata": {
    "colab": {},
    "colab_type": "code",
    "id": "RIdQL-XJUhGt"
   },
   "outputs": [],
   "source": [
    "import csv"
   ]
  },
  {
   "cell_type": "markdown",
   "metadata": {
    "colab_type": "text",
    "id": "SV_3xZ0mUhGw"
   },
   "source": [
    " "
   ]
  },
  {
   "cell_type": "code",
   "execution_count": 0,
   "metadata": {
    "colab": {},
    "colab_type": "code",
    "id": "haSFoJFpUhGx"
   },
   "outputs": [],
   "source": [
    "data_list = []\n",
    "\n",
    "with open('data.csv', 'r') as csvFile:\n",
    "    reader = csv.reader(csvFile)\n",
    "    for row in reader:\n",
    "        data_list.append(row)"
   ]
  },
  {
   "cell_type": "markdown",
   "metadata": {
    "colab_type": "text",
    "id": "x4RT7MXCUhG0"
   },
   "source": [
    " "
   ]
  },
  {
   "cell_type": "code",
   "execution_count": 0,
   "metadata": {
    "colab": {
     "base_uri": "https://localhost:8080/",
     "height": 85
    },
    "colab_type": "code",
    "executionInfo": {
     "elapsed": 4281,
     "status": "ok",
     "timestamp": 1576086506195,
     "user": {
      "displayName": "Vishal Nayak",
      "photoUrl": "https://lh3.googleusercontent.com/a-/AAuE7mCTt-Ft0O7FZnNLCmaQV0OjoOQY-UE6BjazKy6QeTc=s64",
      "userId": "05008619478332300738"
     },
     "user_tz": -330
    },
    "id": "yTRdsfCxUhG1",
    "outputId": "22797920-5ae0-40e0-ecd0-8418a7471dbe"
   },
   "outputs": [
    {
     "name": "stdout",
     "output_type": "stream",
     "text": [
      "The Initial value of hypothesis\n",
      "\n",
      "The most specific hypothesis S0 :  ['0', '0', '0', '0', '0', '0']\n",
      "The most general hypothesis G0 :  ['?', '?', '?', '?', '?', '?']\n"
     ]
    }
   ],
   "source": [
    "*first_sample, output = data_list[0]\n",
    "num_attributes = len(first_sample) \n",
    "\n",
    "S = ['0'] * num_attributes\n",
    "G = ['?'] * num_attributes\n",
    "\n",
    "print(\"The Initial value of hypothesis\", end='\\n\\n')\n",
    "print (\"The most specific hypothesis S0 : \", S)\n",
    "print (\"The most general hypothesis G0 : \", G)"
   ]
  },
  {
   "cell_type": "markdown",
   "metadata": {
    "colab_type": "text",
    "id": "DmCVQ8x-UhG4"
   },
   "source": [
    " "
   ]
  },
  {
   "cell_type": "code",
   "execution_count": 0,
   "metadata": {
    "colab": {},
    "colab_type": "code",
    "id": "-bB1K14TUhG5"
   },
   "outputs": [],
   "source": [
    "# Comparing with First Training Example ( Assigning )\n",
    "\n",
    "S = first_sample[:]"
   ]
  },
  {
   "cell_type": "markdown",
   "metadata": {
    "colab_type": "text",
    "id": "fxeXdQxYUhG7"
   },
   "source": [
    " "
   ]
  },
  {
   "cell_type": "code",
   "execution_count": 0,
   "metadata": {
    "colab": {
     "base_uri": "https://localhost:8080/",
     "height": 344
    },
    "colab_type": "code",
    "executionInfo": {
     "elapsed": 4260,
     "status": "ok",
     "timestamp": 1576086506197,
     "user": {
      "displayName": "Vishal Nayak",
      "photoUrl": "https://lh3.googleusercontent.com/a-/AAuE7mCTt-Ft0O7FZnNLCmaQV0OjoOQY-UE6BjazKy6QeTc=s64",
      "userId": "05008619478332300738"
     },
     "user_tz": -330
    },
    "id": "6XYnWCNMUhG8",
    "outputId": "d845cc07-eced-4037-8c09-012ec7c8684a"
   },
   "outputs": [
    {
     "name": "stdout",
     "output_type": "stream",
     "text": [
      "Candidate Elimination algorithm  Hypotheses Version Space Computation\n",
      "\n",
      "\n",
      "for training example no : 1, S1:  ['Sunny', 'Warm', 'Normal', 'Strong', 'Warm', 'Same']\n",
      "for training example no : 1, G1:  ['?', '?', '?', '?', '?', '?']\n",
      "------------------------------------------------------------------------------------------\n",
      "\n",
      "for training example no : 2, S2:  ['Sunny', 'Warm', '?', 'Strong', 'Warm', 'Same']\n",
      "for training example no : 2, G2:  ['?', '?', '?', '?', '?', '?']\n",
      "------------------------------------------------------------------------------------------\n",
      "\n",
      "for training example no : 3, S3:  ['Sunny', 'Warm', '?', 'Strong', 'Warm', 'Same']\n",
      "for training example no : 3, G3:  [['Sunny', '?', '?', '?', '?', '?'], ['?', 'Warm', '?', '?', '?', '?'], ['?', '?', '?', '?', '?', 'Same']]\n",
      "------------------------------------------------------------------------------------------\n",
      "\n",
      "for training example no : 4, S4:  ['Sunny', 'Warm', '?', 'Strong', '?', '?']\n",
      "for training example no : 4, G4:  [['Sunny', '?', '?', '?', '?', '?'], ['?', 'Warm', '?', '?', '?', '?']]\n",
      "------------------------------------------------------------------------------------------\n"
     ]
    }
   ],
   "source": [
    "# Comparing with Remaining Training Examples of Given Data Set\n",
    "\n",
    "print(\"Candidate Elimination algorithm  Hypotheses Version Space Computation\", end='\\n\\n')\n",
    "\n",
    "general_hypothesis_space = []\n",
    "outer_index = 1\n",
    "\n",
    "\n",
    "for *data, output in data_list:\n",
    "    \n",
    "    if output == 'Y':\n",
    "        for index, attribute in enumerate(data):\n",
    "            if attribute != S[index]:\n",
    "                S[index] = '?'\n",
    "\n",
    "        for general_hypothesis in general_hypothesis_space:\n",
    "            for index, attribute in enumerate(general_hypothesis):\n",
    "                 if attribute not in {'?', S[index] }:\n",
    "                    general_hypothesis_space.remove(general_hypothesis)    \n",
    "                                                      #remove it if it's not matching with the specific hypothesis\n",
    "\n",
    "                         \n",
    "    elif output == 'N': \n",
    "        for index, attribute in enumerate(data):\n",
    "             if S[index] not in  {'?', attribute}:    # if not  matching with the specific Hypothesis take it seperately and store it \n",
    "                G[index] = S[index]\n",
    "                general_hypothesis_space.append(G)    # this is the version space to store all Hypotheses\n",
    "                G = ['?'] * num_attributes            # resetting\n",
    "\n",
    "   \n",
    "    #-----------------------------------------printing section-----------------------------\n",
    "    print()\n",
    "    print(\"for training example no : {0}, S{0}: \".format(outer_index), S) \n",
    "    \n",
    "    if ( len(general_hypothesis_space) == 0 ):\n",
    "        print(\"for training example no : {0}, G{0}: \".format(outer_index), G)\n",
    "    else:\n",
    "        print(\"for training example no : {0}, G{0}: \".format(outer_index), general_hypothesis_space)\n",
    "    print('-' * 90)\n",
    "    #---------------------------------------------------------------------------------------   \n",
    "    \n",
    "    outer_index += 1"
   ]
  },
  {
   "cell_type": "markdown",
   "metadata": {
    "colab_type": "text",
    "id": "fzI3DUAmUhG-"
   },
   "source": [
    " "
   ]
  },
  {
   "cell_type": "code",
   "execution_count": 0,
   "metadata": {
    "colab": {
     "base_uri": "https://localhost:8080/",
     "height": 68
    },
    "colab_type": "code",
    "executionInfo": {
     "elapsed": 4244,
     "status": "ok",
     "timestamp": 1576086506198,
     "user": {
      "displayName": "Vishal Nayak",
      "photoUrl": "https://lh3.googleusercontent.com/a-/AAuE7mCTt-Ft0O7FZnNLCmaQV0OjoOQY-UE6BjazKy6QeTc=s64",
      "userId": "05008619478332300738"
     },
     "user_tz": -330
    },
    "id": "3njH1SQgUhG-",
    "outputId": "04efb1b6-ab54-4431-c9ed-91a9ee40c784"
   },
   "outputs": [
    {
     "name": "stdout",
     "output_type": "stream",
     "text": [
      "Specific hypothesis :  ['Sunny', 'Warm', '?', 'Strong', '?', '?']\n",
      "\n",
      "General hypothesis :  [['Sunny', '?', '?', '?', '?', '?'], ['?', 'Warm', '?', '?', '?', '?']]\n"
     ]
    }
   ],
   "source": [
    "print(\"Specific hypothesis : \", S)\n",
    "print()\n",
    "print(\"General hypothesis : \", general_hypothesis_space)"
   ]
  },
  {
   "cell_type": "markdown",
   "metadata": {
    "colab_type": "text",
    "id": "S6g4R5J8UhHB"
   },
   "source": [
    " "
   ]
  },
  {
   "cell_type": "code",
   "execution_count": 0,
   "metadata": {
    "colab": {
     "base_uri": "https://localhost:8080/",
     "height": 136
    },
    "colab_type": "code",
    "executionInfo": {
     "elapsed": 4225,
     "status": "ok",
     "timestamp": 1576086506198,
     "user": {
      "displayName": "Vishal Nayak",
      "photoUrl": "https://lh3.googleusercontent.com/a-/AAuE7mCTt-Ft0O7FZnNLCmaQV0OjoOQY-UE6BjazKy6QeTc=s64",
      "userId": "05008619478332300738"
     },
     "user_tz": -330
    },
    "id": "vaGPRMBBUhHE",
    "outputId": "7ce95fc9-5aa7-4d9e-b125-f38e533496c5"
   },
   "outputs": [
    {
     "name": "stdout",
     "output_type": "stream",
     "text": [
      "Version Space : \n"
     ]
    },
    {
     "data": {
      "text/plain": [
       "[['Sunny', 'Warm', '?', 'Strong', '?', '?'],\n",
       " ['Sunny', 'Warm', '?', '?', '?', '?'],\n",
       " ['Sunny', '?', '?', 'Strong', '?', '?'],\n",
       " ['?', 'Warm', '?', 'Strong', '?', '?'],\n",
       " ['Sunny', '?', '?', '?', '?', '?'],\n",
       " ['?', 'Warm', '?', '?', '?', '?']]"
      ]
     },
     "execution_count": 168,
     "metadata": {
      "tags": []
     },
     "output_type": "execute_result"
    }
   ],
   "source": [
    "def get_version_space(S, G):\n",
    "    version_space = [S]       # Intialize the version space list and append S (Specific hypothesis)\n",
    "    \n",
    "    for i in range(len(S)):\n",
    "        for general_hypothesis in G:\n",
    "            if general_hypothesis[i] != S[i]:                  # Iterate over Specific and General Hypotheses to build \n",
    "                temp_hypothesis = list(general_hypothesis)     # version space\n",
    "                temp_hypothesis[i] = S[i]\n",
    "                if temp_hypothesis not in version_space:\n",
    "                    version_space.append(temp_hypothesis)\n",
    "    \n",
    "    version_space.extend(G)                                    # Finally put hypotheses that exist in G\n",
    "    \n",
    "    return version_space\n",
    "\n",
    "print(\"Version Space : \") \n",
    "get_version_space(S, general_hypothesis_space)"
   ]
  },
  {
   "cell_type": "markdown",
   "metadata": {},
   "source": [
    " "
   ]
  },
  {
   "cell_type": "code",
   "execution_count": 0,
   "metadata": {
    "colab": {
     "base_uri": "https://localhost:8080/",
     "height": 102
    },
    "colab_type": "code",
    "executionInfo": {
     "elapsed": 4209,
     "status": "ok",
     "timestamp": 1576086506199,
     "user": {
      "displayName": "Vishal Nayak",
      "photoUrl": "https://lh3.googleusercontent.com/a-/AAuE7mCTt-Ft0O7FZnNLCmaQV0OjoOQY-UE6BjazKy6QeTc=s64",
      "userId": "05008619478332300738"
     },
     "user_tz": -330
    },
    "id": "s3marJVDUhHB",
    "outputId": "eb6fb3a1-2a7b-42bd-e3ba-452969e9d785",
    "scrolled": false
   },
   "outputs": [
    {
     "name": "stdout",
     "output_type": "stream",
     "text": [
      "Sunny,Warm,Normal,Strong,Warm,Same,Y\n",
      "Sunny,Warm,High,Strong,Warm,Same,Y\n",
      "Rainy,Cold,High,Strong,Warm,Change,N\n",
      "Sunny,Warm,High,Strong,Cool,Change,Y\n",
      "\n"
     ]
    }
   ],
   "source": [
    "# PS: Dataset for clarity\n",
    "print(open('data.csv').read())"
   ]
  },
  {
   "cell_type": "markdown",
   "metadata": {},
   "source": [
    " "
   ]
  },
  {
   "cell_type": "code",
   "execution_count": 49,
   "metadata": {},
   "outputs": [
    {
     "data": {
      "text/html": [
       "<style> div.prompt_container{ width: 0px; min-width: 0px; visibility: collapse}</style>"
      ],
      "text/plain": [
       "<IPython.core.display.HTML object>"
      ]
     },
     "metadata": {},
     "output_type": "display_data"
    },
    {
     "data": {
      "text/html": [
       "<style> div.prompt{ width: 0px; min-width: 0px; visibility: collapse}</style>"
      ],
      "text/plain": [
       "<IPython.core.display.HTML object>"
      ]
     },
     "metadata": {},
     "output_type": "display_data"
    },
    {
     "data": {
      "text/html": [
       "<style> div.output pre { font-style: italic; color: rgb(105,105,105) } </style>"
      ],
      "text/plain": [
       "<IPython.core.display.HTML object>"
      ]
     },
     "metadata": {},
     "output_type": "display_data"
    },
    {
     "data": {
      "text/html": [
       "<style>.container { width:100% !important; }</style>"
      ],
      "text/plain": [
       "<IPython.core.display.HTML object>"
      ]
     },
     "metadata": {},
     "output_type": "display_data"
    }
   ],
   "source": []
  }
 ],
 "metadata": {
  "colab": {
   "collapsed_sections": [],
   "name": "2_candidate_elimination.ipynb",
   "provenance": [],
   "toc_visible": true
  },
  "kernelspec": {
   "display_name": "Python 3",
   "language": "python",
   "name": "python3"
  },
  "language_info": {
   "codemirror_mode": {
    "name": "ipython",
    "version": 3
   },
   "file_extension": ".py",
   "mimetype": "text/x-python",
   "name": "python",
   "nbconvert_exporter": "python",
   "pygments_lexer": "ipython3",
   "version": "3.7.3"
  }
 },
 "nbformat": 4,
 "nbformat_minor": 1
}
