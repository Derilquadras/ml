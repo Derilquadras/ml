{
 "cells": [
  {
   "cell_type": "markdown",
   "metadata": {},
   "source": [
    "# 3 Decision tree based ID3, build and classify for appropriate dataset"
   ]
  },
  {
   "cell_type": "markdown",
   "metadata": {},
   "source": [
    "### Import Play Tennis Data "
   ]
  },
  {
   "cell_type": "code",
   "execution_count": 346,
   "metadata": {},
   "outputs": [],
   "source": [
    "from math import log2\n",
    "from collections import Counter\n",
    "\n",
    "import pandas as pd\n",
    "dataframe = pd.read_csv('PlayTennis.csv')\n"
   ]
  },
  {
   "cell_type": "code",
   "execution_count": 347,
   "metadata": {},
   "outputs": [
    {
     "data": {
      "text/html": [
       "<div>\n",
       "<style scoped>\n",
       "    .dataframe tbody tr th:only-of-type {\n",
       "        vertical-align: middle;\n",
       "    }\n",
       "\n",
       "    .dataframe tbody tr th {\n",
       "        vertical-align: top;\n",
       "    }\n",
       "\n",
       "    .dataframe thead th {\n",
       "        text-align: right;\n",
       "    }\n",
       "</style>\n",
       "<table border=\"1\" class=\"dataframe\">\n",
       "  <thead>\n",
       "    <tr style=\"text-align: right;\">\n",
       "      <th></th>\n",
       "      <th>PlayTennis</th>\n",
       "      <th>Outlook</th>\n",
       "      <th>Temperature</th>\n",
       "      <th>Humidity</th>\n",
       "      <th>Wind</th>\n",
       "    </tr>\n",
       "  </thead>\n",
       "  <tbody>\n",
       "    <tr>\n",
       "      <th>0</th>\n",
       "      <td>No</td>\n",
       "      <td>Sunny</td>\n",
       "      <td>Hot</td>\n",
       "      <td>High</td>\n",
       "      <td>Weak</td>\n",
       "    </tr>\n",
       "    <tr>\n",
       "      <th>1</th>\n",
       "      <td>No</td>\n",
       "      <td>Sunny</td>\n",
       "      <td>Hot</td>\n",
       "      <td>High</td>\n",
       "      <td>Strong</td>\n",
       "    </tr>\n",
       "    <tr>\n",
       "      <th>2</th>\n",
       "      <td>Yes</td>\n",
       "      <td>Overcast</td>\n",
       "      <td>Hot</td>\n",
       "      <td>High</td>\n",
       "      <td>Weak</td>\n",
       "    </tr>\n",
       "    <tr>\n",
       "      <th>3</th>\n",
       "      <td>Yes</td>\n",
       "      <td>Rain</td>\n",
       "      <td>Mild</td>\n",
       "      <td>High</td>\n",
       "      <td>Weak</td>\n",
       "    </tr>\n",
       "    <tr>\n",
       "      <th>4</th>\n",
       "      <td>Yes</td>\n",
       "      <td>Rain</td>\n",
       "      <td>Cool</td>\n",
       "      <td>Normal</td>\n",
       "      <td>Weak</td>\n",
       "    </tr>\n",
       "    <tr>\n",
       "      <th>5</th>\n",
       "      <td>No</td>\n",
       "      <td>Rain</td>\n",
       "      <td>Cool</td>\n",
       "      <td>Normal</td>\n",
       "      <td>Strong</td>\n",
       "    </tr>\n",
       "    <tr>\n",
       "      <th>6</th>\n",
       "      <td>Yes</td>\n",
       "      <td>Overcast</td>\n",
       "      <td>Cool</td>\n",
       "      <td>Normal</td>\n",
       "      <td>Strong</td>\n",
       "    </tr>\n",
       "    <tr>\n",
       "      <th>7</th>\n",
       "      <td>No</td>\n",
       "      <td>Sunny</td>\n",
       "      <td>Mild</td>\n",
       "      <td>High</td>\n",
       "      <td>Weak</td>\n",
       "    </tr>\n",
       "    <tr>\n",
       "      <th>8</th>\n",
       "      <td>Yes</td>\n",
       "      <td>Sunny</td>\n",
       "      <td>Cool</td>\n",
       "      <td>Normal</td>\n",
       "      <td>Weak</td>\n",
       "    </tr>\n",
       "    <tr>\n",
       "      <th>9</th>\n",
       "      <td>Yes</td>\n",
       "      <td>Rain</td>\n",
       "      <td>Mild</td>\n",
       "      <td>Normal</td>\n",
       "      <td>Weak</td>\n",
       "    </tr>\n",
       "    <tr>\n",
       "      <th>10</th>\n",
       "      <td>Yes</td>\n",
       "      <td>Sunny</td>\n",
       "      <td>Mild</td>\n",
       "      <td>Normal</td>\n",
       "      <td>Strong</td>\n",
       "    </tr>\n",
       "    <tr>\n",
       "      <th>11</th>\n",
       "      <td>Yes</td>\n",
       "      <td>Overcast</td>\n",
       "      <td>Mild</td>\n",
       "      <td>High</td>\n",
       "      <td>Strong</td>\n",
       "    </tr>\n",
       "    <tr>\n",
       "      <th>12</th>\n",
       "      <td>Yes</td>\n",
       "      <td>Overcast</td>\n",
       "      <td>Hot</td>\n",
       "      <td>Normal</td>\n",
       "      <td>Weak</td>\n",
       "    </tr>\n",
       "    <tr>\n",
       "      <th>13</th>\n",
       "      <td>No</td>\n",
       "      <td>Rain</td>\n",
       "      <td>Mild</td>\n",
       "      <td>High</td>\n",
       "      <td>Strong</td>\n",
       "    </tr>\n",
       "  </tbody>\n",
       "</table>\n",
       "</div>"
      ],
      "text/plain": [
       "   PlayTennis   Outlook Temperature Humidity    Wind\n",
       "0          No     Sunny         Hot     High    Weak\n",
       "1          No     Sunny         Hot     High  Strong\n",
       "2         Yes  Overcast         Hot     High    Weak\n",
       "3         Yes      Rain        Mild     High    Weak\n",
       "4         Yes      Rain        Cool   Normal    Weak\n",
       "5          No      Rain        Cool   Normal  Strong\n",
       "6         Yes  Overcast        Cool   Normal  Strong\n",
       "7          No     Sunny        Mild     High    Weak\n",
       "8         Yes     Sunny        Cool   Normal    Weak\n",
       "9         Yes      Rain        Mild   Normal    Weak\n",
       "10        Yes     Sunny        Mild   Normal  Strong\n",
       "11        Yes  Overcast        Mild     High  Strong\n",
       "12        Yes  Overcast         Hot   Normal    Weak\n",
       "13         No      Rain        Mild     High  Strong"
      ]
     },
     "execution_count": 347,
     "metadata": {},
     "output_type": "execute_result"
    }
   ],
   "source": [
    "#piping out the dataframe\n",
    "dataframe"
   ]
  },
  {
   "cell_type": "markdown",
   "metadata": {},
   "source": [
    "  "
   ]
  },
  {
   "cell_type": "markdown",
   "metadata": {},
   "source": [
    "### Entropy of the Training Data Set"
   ]
  },
  {
   "cell_type": "code",
   "execution_count": 348,
   "metadata": {},
   "outputs": [],
   "source": [
    "\n",
    "def entropy(subframe):  \n",
    "    \n",
    "    counter = Counter(subframe)\n",
    "    num_instances = len(subframe) \n",
    "    \n",
    "    entropy = 0\n",
    "    for value in counter.values():\n",
    "        probability = value/num_instances\n",
    "        entropy = entropy   +  ( -probability * log2(probability) )   # Entropy,  -p*log2*p\n",
    "        \n",
    "    return entropy\n",
    "\n"
   ]
  },
  {
   "cell_type": "markdown",
   "metadata": {},
   "source": [
    "  "
   ]
  },
  {
   "cell_type": "markdown",
   "metadata": {},
   "source": [
    "### Information Gain of Attributes "
   ]
  },
  {
   "cell_type": "code",
   "execution_count": 349,
   "metadata": {},
   "outputs": [],
   "source": [
    "total_samples = len(dataframe.index)\n",
    "\n",
    "# helper function in finding aggregates\n",
    "\n",
    "def probability(samples):\n",
    "        return len(samples)/total_samples\n",
    "    "
   ]
  },
  {
   "cell_type": "code",
   "execution_count": 350,
   "metadata": {},
   "outputs": [],
   "source": [
    "def information_gain(dataframe, split_attribute, target_attribute):\n",
    "\n",
    "    # Split and Aggregate Data by possible vals of Attribute:\n",
    "    \n",
    "    frame = dataframe.groupby(split_attribute)\n",
    "    aggregate = frame.agg(  [entropy, probability] )\n",
    "    \n",
    "    aggregate = aggregate[target_attribute]      # since interest is only on target\n",
    "    \n",
    " \n",
    "    new_entropy = sum( aggregate['entropy'] * aggregate['probability'] )\n",
    "    old_entropy = entropy(dataframe[target_attribute])\n",
    "    return old_entropy - new_entropy\n",
    "    "
   ]
  },
  {
   "cell_type": "markdown",
   "metadata": {},
   "source": [
    " "
   ]
  },
  {
   "cell_type": "markdown",
   "metadata": {},
   "source": [
    "### ID3 Algorithm"
   ]
  },
  {
   "cell_type": "code",
   "execution_count": 354,
   "metadata": {},
   "outputs": [],
   "source": [
    "def id3(dataframe, target_attribute, attributes_list, default_class=None):\n",
    "    \n",
    "                               \n",
    "    \n",
    "    \n",
    "    counter = Counter(dataframe[target_attribute])               # Atrribute class of YES/NO (binary)\n",
    "    \n",
    "   \n",
    "    ''' First check: Is this split of the dataset homogeneous ?   ''' \n",
    "    \n",
    "    if len(counter) == 1:\n",
    "        return next(iter(counter))     \n",
    "                                                                # counter is a dictionary, iterate the dictionary, and release the first key\n",
    "    \n",
    "    \n",
    "        ''' Second check: Is this split of the dataset empty ?  '''\n",
    "   \n",
    "    elif dataframe.empty or (not attributes_list):\n",
    "        return default_class                                    # Return None for Empty Data Set\n",
    "    \n",
    "    \n",
    "        ''' Otherwise: '''\n",
    "    else:\n",
    "        \n",
    "        # Get Default Value for next recursive call of this function :\n",
    "         \n",
    "        default_class = max(counter)  \n",
    "        \n",
    " #------------------------------------------------------------------------------------                                                                                                                           \n",
    "        \n",
    "        # Compute the Information Gain of all the attributes:\n",
    "        \n",
    "        gains = []\n",
    "        for attribute in attributes_list:\n",
    "            gains.append( \n",
    "                            [ information_gain(dataframe, attribute, target_attribute), attribute ]\n",
    "                        )      \n",
    "            \n",
    "                                                                 #appending attribute, will be easy in extracting attribute with maxgain\n",
    "                                                                                                     \n",
    "        \n",
    "#------------------------------------------------------------------------------------                                                                                                                           \n",
    "        \n",
    "        # Choose Best Attribute to split on:\n",
    "        best_attribute = max(gains)[1]                          # 1 because it's attribute's index\n",
    "        \n",
    "        # Create an empty tree, with best attribute as a node \n",
    "        tree = { best_attribute : {} }    \n",
    "        \n",
    "        attributes_list.remove(best_attribute)                  # since interest is on remaining attributes\n",
    "\n",
    " #------------------------------------------------------------------------------------                                                                                                                           \n",
    "\n",
    "        # Split dataset\n",
    "        #      On each split, recursively call this algorithm.\n",
    "        # populate the empty tree with subtrees, which are the result of the recursive call\n",
    "        \n",
    "        for attribute_value, data_subset in dataframe.groupby(best_attribute):\n",
    "            subtree = id3(data_subset, target_attribute, attributes_list, default_class)\n",
    "            \n",
    "            tree[best_attribute][attribute_value] = subtree\n",
    "        \n",
    "        \n",
    "        return tree\n",
    "        "
   ]
  },
  {
   "cell_type": "markdown",
   "metadata": {},
   "source": [
    " "
   ]
  },
  {
   "cell_type": "markdown",
   "metadata": {},
   "source": [
    "### Predicting Attributes"
   ]
  },
  {
   "cell_type": "code",
   "execution_count": 355,
   "metadata": {},
   "outputs": [
    {
     "name": "stdout",
     "output_type": "stream",
     "text": [
      "['Outlook', 'Temperature', 'Humidity', 'Wind']\n"
     ]
    }
   ],
   "source": [
    "# Get the column headers in dateframe\n",
    "\n",
    "attributes_list = list(dataframe.columns)\n",
    "attributes_list.remove('PlayTennis')                          #     since it is not an attribute \n",
    "\n",
    "print(attribute_list)"
   ]
  },
  {
   "cell_type": "markdown",
   "metadata": {},
   "source": [
    "### Tree Construction"
   ]
  },
  {
   "cell_type": "code",
   "execution_count": 357,
   "metadata": {},
   "outputs": [
    {
     "name": "stdout",
     "output_type": "stream",
     "text": [
      "{'Outlook': {'Overcast': 'Yes',\n",
      "             'Rain': {'Wind': {'Strong': 'No', 'Weak': 'Yes'}},\n",
      "             'Sunny': {'Humidity': {'High': 'No', 'Normal': 'Yes'}}}}\n"
     ]
    }
   ],
   "source": [
    "# Run Algorithm:\n",
    "\n",
    "\n",
    "tree = id3(dataframe, 'PlayTennis', attributes_list.copy() )    #.copy since attributes are removed in recursions\n",
    "\n",
    "\n",
    "# pretty print\n",
    "\n",
    "from pprint import  pprint\n",
    "pprint(tree)\n"
   ]
  },
  {
   "cell_type": "markdown",
   "metadata": {},
   "source": [
    "# Classification Accuracy"
   ]
  },
  {
   "cell_type": "code",
   "execution_count": 318,
   "metadata": {},
   "outputs": [],
   "source": [
    "#classifying function \n",
    "\n",
    "def classify(instance, tree, default=None): \n",
    "    \n",
    "    \n",
    "    attribute = next(iter(tree))                     # Outlook/Humidity/Wind       \n",
    "   \n",
    "    subtree =  tree[attribute]\n",
    "    \n",
    "    if instance[attribute] in subtree:               # Value of the attributs in  set of Tree keys  \n",
    "        result = subtree[ instance[attribute] ]\n",
    "        \n",
    "        if isinstance(result, dict):                 # if it is a tree(dictionary), go deeper\n",
    "            return classify(instance, result)\n",
    "        else:\n",
    "            return result                            # this is a label\n",
    "    else:\n",
    "        return default"
   ]
  },
  {
   "cell_type": "code",
   "execution_count": 384,
   "metadata": {},
   "outputs": [
    {
     "name": "stdout",
     "output_type": "stream",
     "text": [
      "Accuracy is:  1.0\n"
     ]
    },
    {
     "data": {
      "text/html": [
       "<div>\n",
       "<style scoped>\n",
       "    .dataframe tbody tr th:only-of-type {\n",
       "        vertical-align: middle;\n",
       "    }\n",
       "\n",
       "    .dataframe tbody tr th {\n",
       "        vertical-align: top;\n",
       "    }\n",
       "\n",
       "    .dataframe thead th {\n",
       "        text-align: right;\n",
       "    }\n",
       "</style>\n",
       "<table border=\"1\" class=\"dataframe\">\n",
       "  <thead>\n",
       "    <tr style=\"text-align: right;\">\n",
       "      <th></th>\n",
       "      <th>PlayTennis</th>\n",
       "      <th>Outlook</th>\n",
       "      <th>Temperature</th>\n",
       "      <th>Humidity</th>\n",
       "      <th>Wind</th>\n",
       "      <th>predicted</th>\n",
       "    </tr>\n",
       "  </thead>\n",
       "  <tbody>\n",
       "    <tr>\n",
       "      <th>0</th>\n",
       "      <td>No</td>\n",
       "      <td>Sunny</td>\n",
       "      <td>Hot</td>\n",
       "      <td>High</td>\n",
       "      <td>Weak</td>\n",
       "      <td>No</td>\n",
       "    </tr>\n",
       "    <tr>\n",
       "      <th>1</th>\n",
       "      <td>No</td>\n",
       "      <td>Sunny</td>\n",
       "      <td>Hot</td>\n",
       "      <td>High</td>\n",
       "      <td>Strong</td>\n",
       "      <td>No</td>\n",
       "    </tr>\n",
       "    <tr>\n",
       "      <th>2</th>\n",
       "      <td>Yes</td>\n",
       "      <td>Overcast</td>\n",
       "      <td>Hot</td>\n",
       "      <td>High</td>\n",
       "      <td>Weak</td>\n",
       "      <td>Yes</td>\n",
       "    </tr>\n",
       "    <tr>\n",
       "      <th>3</th>\n",
       "      <td>Yes</td>\n",
       "      <td>Rain</td>\n",
       "      <td>Mild</td>\n",
       "      <td>High</td>\n",
       "      <td>Weak</td>\n",
       "      <td>Yes</td>\n",
       "    </tr>\n",
       "    <tr>\n",
       "      <th>4</th>\n",
       "      <td>Yes</td>\n",
       "      <td>Rain</td>\n",
       "      <td>Cool</td>\n",
       "      <td>Normal</td>\n",
       "      <td>Weak</td>\n",
       "      <td>Yes</td>\n",
       "    </tr>\n",
       "    <tr>\n",
       "      <th>5</th>\n",
       "      <td>No</td>\n",
       "      <td>Rain</td>\n",
       "      <td>Cool</td>\n",
       "      <td>Normal</td>\n",
       "      <td>Strong</td>\n",
       "      <td>No</td>\n",
       "    </tr>\n",
       "    <tr>\n",
       "      <th>6</th>\n",
       "      <td>Yes</td>\n",
       "      <td>Overcast</td>\n",
       "      <td>Cool</td>\n",
       "      <td>Normal</td>\n",
       "      <td>Strong</td>\n",
       "      <td>Yes</td>\n",
       "    </tr>\n",
       "    <tr>\n",
       "      <th>7</th>\n",
       "      <td>No</td>\n",
       "      <td>Sunny</td>\n",
       "      <td>Mild</td>\n",
       "      <td>High</td>\n",
       "      <td>Weak</td>\n",
       "      <td>No</td>\n",
       "    </tr>\n",
       "    <tr>\n",
       "      <th>8</th>\n",
       "      <td>Yes</td>\n",
       "      <td>Sunny</td>\n",
       "      <td>Cool</td>\n",
       "      <td>Normal</td>\n",
       "      <td>Weak</td>\n",
       "      <td>Yes</td>\n",
       "    </tr>\n",
       "    <tr>\n",
       "      <th>9</th>\n",
       "      <td>Yes</td>\n",
       "      <td>Rain</td>\n",
       "      <td>Mild</td>\n",
       "      <td>Normal</td>\n",
       "      <td>Weak</td>\n",
       "      <td>Yes</td>\n",
       "    </tr>\n",
       "    <tr>\n",
       "      <th>10</th>\n",
       "      <td>Yes</td>\n",
       "      <td>Sunny</td>\n",
       "      <td>Mild</td>\n",
       "      <td>Normal</td>\n",
       "      <td>Strong</td>\n",
       "      <td>Yes</td>\n",
       "    </tr>\n",
       "    <tr>\n",
       "      <th>11</th>\n",
       "      <td>Yes</td>\n",
       "      <td>Overcast</td>\n",
       "      <td>Mild</td>\n",
       "      <td>High</td>\n",
       "      <td>Strong</td>\n",
       "      <td>Yes</td>\n",
       "    </tr>\n",
       "    <tr>\n",
       "      <th>12</th>\n",
       "      <td>Yes</td>\n",
       "      <td>Overcast</td>\n",
       "      <td>Hot</td>\n",
       "      <td>Normal</td>\n",
       "      <td>Weak</td>\n",
       "      <td>Yes</td>\n",
       "    </tr>\n",
       "    <tr>\n",
       "      <th>13</th>\n",
       "      <td>No</td>\n",
       "      <td>Rain</td>\n",
       "      <td>Mild</td>\n",
       "      <td>High</td>\n",
       "      <td>Strong</td>\n",
       "      <td>No</td>\n",
       "    </tr>\n",
       "  </tbody>\n",
       "</table>\n",
       "</div>"
      ],
      "text/plain": [
       "   PlayTennis   Outlook Temperature Humidity    Wind predicted\n",
       "0          No     Sunny         Hot     High    Weak        No\n",
       "1          No     Sunny         Hot     High  Strong        No\n",
       "2         Yes  Overcast         Hot     High    Weak       Yes\n",
       "3         Yes      Rain        Mild     High    Weak       Yes\n",
       "4         Yes      Rain        Cool   Normal    Weak       Yes\n",
       "5          No      Rain        Cool   Normal  Strong        No\n",
       "6         Yes  Overcast        Cool   Normal  Strong       Yes\n",
       "7          No     Sunny        Mild     High    Weak        No\n",
       "8         Yes     Sunny        Cool   Normal    Weak       Yes\n",
       "9         Yes      Rain        Mild   Normal    Weak       Yes\n",
       "10        Yes     Sunny        Mild   Normal  Strong       Yes\n",
       "11        Yes  Overcast        Mild     High  Strong       Yes\n",
       "12        Yes  Overcast         Hot   Normal    Weak       Yes\n",
       "13         No      Rain        Mild     High  Strong        No"
      ]
     },
     "execution_count": 384,
     "metadata": {},
     "output_type": "execute_result"
    }
   ],
   "source": [
    "\n",
    "\n",
    "# creating a new column \"predicted\" in dataframe by applying \"classify\" along rows\n",
    "\n",
    "dataframe['predicted'] = dataframe.apply(classify, axis=1, args=(tree,'No') ) \n",
    "   \n",
    "\n",
    "# Accuracy, no_of_correct_predictions / total_samples \n",
    "\n",
    "accuracy =  sum( dataframe['PlayTennis'] == dataframe['predicted'] ) / len(dataframe.index)\n",
    "print('Accuracy is: ', accuracy )\n",
    "\n",
    "\n",
    "dataframe\n"
   ]
  },
  {
   "cell_type": "markdown",
   "metadata": {},
   "source": [
    "  "
   ]
  },
  {
   "cell_type": "markdown",
   "metadata": {
    "collapsed": true
   },
   "source": [
    "### Classification Accuracy: Training/Testing Set"
   ]
  },
  {
   "cell_type": "code",
   "execution_count": 364,
   "metadata": {
    "scrolled": false
   },
   "outputs": [
    {
     "name": "stdout",
     "output_type": "stream",
     "text": [
      "Accuracy is over test data :  0.75\n"
     ]
    }
   ],
   "source": [
    "\n",
    "                                                          #.copy() to ignore a warning\n",
    "training_data = dataframe.iloc[:-4].copy()                # all but last four instances and column headers\n",
    "test_data  = dataframe.iloc[-4:].copy()                   # just the last four\n",
    "\n",
    "\n",
    "\n",
    "train_tree = id3(training_data, 'PlayTennis', attributes_list.copy() )    #Note : .copy\n",
    "\n",
    "test_data['predicted2'] = test_data.apply(                                # <---- test_data source\n",
    "                                          classify, \n",
    "                                          axis=1, \n",
    "                                          args=(train_tree, 'Yes') )       # <---- train_data tree\n",
    "\n",
    "accuracy =  sum( test_data['PlayTennis'] == test_data['predicted2'] ) / len(test_data.index)\n",
    "print('Accuracy is over test data : ', accuracy )\n"
   ]
  },
  {
   "cell_type": "markdown",
   "metadata": {},
   "source": [
    "   "
   ]
  },
  {
   "cell_type": "code",
   "execution_count": 379,
   "metadata": {},
   "outputs": [
    {
     "name": "stdout",
     "output_type": "stream",
     "text": [
      "PlayTennis,   Outlook,Temperature,  Humidity\n",
      "        No,     Sunny,       Hot,      High\n",
      "        No,     Sunny,       Hot,      High\n",
      "       Yes,  Overcast,       Hot,      High\n",
      "       Yes,      Rain,      Mild,      High\n",
      "       Yes,      Rain,      Cool,    Normal\n",
      "        No,      Rain,      Cool,    Normal\n",
      "       Yes,  Overcast,      Cool,    Normal\n",
      "        No,     Sunny,      Mild,      High\n",
      "       Yes,     Sunny,      Cool,    Normal\n",
      "       Yes,      Rain,      Mild,    Normal\n",
      "       Yes,     Sunny,      Mild,    Normal\n",
      "       Yes,  Overcast,      Mild,      High\n",
      "       Yes,  Overcast,       Hot,    Normal\n",
      "        No,      Rain,      Mild,      High\n"
     ]
    }
   ],
   "source": [
    "#P.S : Dataset\n",
    "for line in open('PlayTennis.csv').readlines():\n",
    "    print(\"{0:>10},{1:>10},{2:>10},{3:>10}\".format(*line.strip().split(',')))"
   ]
  }
 ],
 "metadata": {
  "kernelspec": {
   "display_name": "Python 3",
   "language": "python",
   "name": "python3"
  },
  "language_info": {
   "codemirror_mode": {
    "name": "ipython",
    "version": 3
   },
   "file_extension": ".py",
   "mimetype": "text/x-python",
   "name": "python",
   "nbconvert_exporter": "python",
   "pygments_lexer": "ipython3",
   "version": "3.7.5"
  }
 },
 "nbformat": 4,
 "nbformat_minor": 2
}
