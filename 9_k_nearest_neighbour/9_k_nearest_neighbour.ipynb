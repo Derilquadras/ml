{
 "cells": [
  {
   "cell_type": "markdown",
   "metadata": {},
   "source": [
    "# 9 : K-Nearest Neighbour and classify iris dataset"
   ]
  },
  {
   "cell_type": "markdown",
   "metadata": {},
   "source": [
    " "
   ]
  },
  {
   "cell_type": "markdown",
   "metadata": {},
   "source": [
    "###### load iris dataset"
   ]
  },
  {
   "cell_type": "code",
   "execution_count": 37,
   "metadata": {},
   "outputs": [
    {
     "name": "stdout",
     "output_type": "stream",
     "text": [
      "['setosa' 'versicolor' 'virginica']\n"
     ]
    }
   ],
   "source": [
    "from sklearn.datasets import load_iris\n",
    "\n",
    "iris_dataset = load_iris()\n",
    "\n",
    "targets = iris_dataset.target_names\n",
    "print(targets)"
   ]
  },
  {
   "cell_type": "markdown",
   "metadata": {},
   "source": [
    "  "
   ]
  },
  {
   "cell_type": "markdown",
   "metadata": {},
   "source": [
    "###### split the dataset for testing and training "
   ]
  },
  {
   "cell_type": "code",
   "execution_count": 34,
   "metadata": {},
   "outputs": [],
   "source": [
    "from sklearn.model_selection import train_test_split\n",
    "\n",
    "data_store = train_test_split( iris_dataset.data, iris_dataset.target)\n",
    "\n",
    "training_inputs, testing_inputs, training_outputs, testing_outputs = data_store"
   ]
  },
  {
   "cell_type": "markdown",
   "metadata": {},
   "source": [
    " "
   ]
  },
  {
   "cell_type": "markdown",
   "metadata": {},
   "source": [
    "###### fit training data to K-nearest_neighbour model"
   ]
  },
  {
   "cell_type": "code",
   "execution_count": 8,
   "metadata": {},
   "outputs": [
    {
     "data": {
      "text/plain": [
       "KNeighborsClassifier(algorithm='auto', leaf_size=30, metric='minkowski',\n",
       "           metric_params=None, n_jobs=None, n_neighbors=1, p=2,\n",
       "           weights='uniform')"
      ]
     },
     "execution_count": 8,
     "metadata": {},
     "output_type": "execute_result"
    }
   ],
   "source": [
    "from sklearn.neighbors import KNeighborsClassifier\n",
    "\n",
    "kn = KNeighborsClassifier(n_neighbors=1)\n",
    "kn.fit(training_inputs, training_outputs)\n"
   ]
  },
  {
   "cell_type": "markdown",
   "metadata": {},
   "source": [
    " "
   ]
  },
  {
   "cell_type": "markdown",
   "metadata": {},
   "source": [
    "###### find predictions on  test data"
   ]
  },
  {
   "cell_type": "code",
   "execution_count": 42,
   "metadata": {},
   "outputs": [
    {
     "name": "stdout",
     "output_type": "stream",
     "text": [
      "actual output -->     setosa | predcited output -->     setosa\n",
      "actual output -->     setosa | predcited output -->     setosa\n",
      "actual output -->  virginica | predcited output -->  virginica\n",
      "actual output -->     setosa | predcited output -->     setosa\n",
      "actual output -->     setosa | predcited output -->     setosa\n",
      "actual output -->     setosa | predcited output -->     setosa\n",
      "actual output -->  virginica | predcited output -->  virginica\n",
      "actual output --> versicolor | predcited output --> versicolor\n",
      "actual output -->     setosa | predcited output -->     setosa\n",
      "actual output --> versicolor | predcited output --> versicolor\n",
      "actual output -->     setosa | predcited output -->     setosa\n",
      "actual output --> versicolor | predcited output --> versicolor\n",
      "actual output -->  virginica | predcited output -->  virginica\n",
      "actual output -->  virginica | predcited output -->  virginica\n",
      "actual output -->  virginica | predcited output -->  virginica\n",
      "actual output -->  virginica | predcited output -->  virginica\n",
      "actual output --> versicolor | predcited output --> versicolor\n",
      "actual output -->  virginica | predcited output -->  virginica\n",
      "actual output -->  virginica | predcited output -->  virginica\n",
      "actual output -->  virginica | predcited output -->  virginica\n",
      "actual output --> versicolor | predcited output --> versicolor\n",
      "actual output --> versicolor | predcited output --> versicolor\n",
      "actual output --> versicolor | predcited output --> versicolor\n",
      "actual output --> versicolor | predcited output --> versicolor\n",
      "actual output --> versicolor | predcited output --> versicolor\n",
      "actual output -->     setosa | predcited output -->     setosa\n",
      "actual output --> versicolor | predcited output --> versicolor\n",
      "actual output -->  virginica | predcited output -->  virginica\n",
      "actual output -->  virginica | predcited output -->  virginica\n",
      "actual output -->     setosa | predcited output -->     setosa\n",
      "actual output -->  virginica | predcited output -->  virginica\n",
      "actual output --> versicolor | predcited output --> versicolor\n",
      "actual output --> versicolor | predcited output --> versicolor\n",
      "actual output --> versicolor | predcited output --> versicolor\n",
      "actual output -->  virginica | predcited output -->  virginica\n",
      "actual output -->     setosa | predcited output -->     setosa\n",
      "actual output -->  virginica | predcited output -->  virginica\n",
      "actual output -->     setosa | predcited output -->     setosa\n"
     ]
    }
   ],
   "source": [
    "for test_input, test_output in zip(testing_inputs, testing_outputs):\n",
    "    \n",
    "    prediction_index = kn.predict([test_input])                            #test_input is 1d, enclose it for passing as 2d, ! Important\n",
    "\n",
    "    predicted_output = targets[prediction_index][0]   # 0 since its a list having single element\n",
    "    actual_output =  targets[test_output]              #test output is an index\n",
    "    \n",
    "    # {0:>10} stands for {index_of_element_in_format_parameters : right_justified by 10 characters}\n",
    "    \n",
    "    formatted_string =  '{0:>10} --> {1:>10} | {2:>10} --> {3:>10}'.format('actual output', actual_output, 'predcited output', predicted_output)\n",
    "    print(formatted_string)"
   ]
  },
  {
   "cell_type": "code",
   "execution_count": 31,
   "metadata": {},
   "outputs": [
    {
     "data": {
      "text/html": [
       "<style> div.prompt_container{ width: 0px; min-width: 0px; visibility: collapse}</style>"
      ],
      "text/plain": [
       "<IPython.core.display.HTML object>"
      ]
     },
     "metadata": {},
     "output_type": "display_data"
    },
    {
     "data": {
      "text/html": [
       "<style> div.prompt{ width: 0px; min-width: 0px; visibility: collapse}</style>"
      ],
      "text/plain": [
       "<IPython.core.display.HTML object>"
      ]
     },
     "metadata": {},
     "output_type": "display_data"
    },
    {
     "data": {
      "text/html": [
       "<style> div.output pre { font-style: italic; color: rgb(105,105,105) } </style>"
      ],
      "text/plain": [
       "<IPython.core.display.HTML object>"
      ]
     },
     "metadata": {},
     "output_type": "display_data"
    },
    {
     "data": {
      "text/html": [
       "<style>.container { width:100% !important; }</style>"
      ],
      "text/plain": [
       "<IPython.core.display.HTML object>"
      ]
     },
     "metadata": {},
     "output_type": "display_data"
    }
   ],
   "source": []
  }
 ],
 "metadata": {
  "kernelspec": {
   "display_name": "Python 3",
   "language": "python",
   "name": "python3"
  },
  "language_info": {
   "codemirror_mode": {
    "name": "ipython",
    "version": 3
   },
   "file_extension": ".py",
   "mimetype": "text/x-python",
   "name": "python",
   "nbconvert_exporter": "python",
   "pygments_lexer": "ipython3",
   "version": "3.7.5"
  }
 },
 "nbformat": 4,
 "nbformat_minor": 2
}
